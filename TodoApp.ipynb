{
 "cells": [
  {
   "cell_type": "code",
   "execution_count": 1,
   "metadata": {},
   "outputs": [
    {
     "name": "stdout",
     "output_type": "stream",
     "text": [
      "Enter your Selection ID\n",
      "1.Add Element\n",
      "2.Delete Element\n",
      "3.Delete all\n",
      "4.exit\n",
      "4\n"
     ]
    }
   ],
   "source": [
    "toDoList = [] \n",
    "def add_element() :\n",
    "    add = input(\"Enter the data\")\n",
    "    toDoList.append(add)\n",
    "def del_element() :\n",
    "    pos = int(input(\"Enter the position you want to delete\\n\"))\n",
    "    del toDoList[pos]\n",
    "def Clear() :\n",
    "    toDoList.clear()\n",
    "while True :\n",
    "    selection = input(\"Enter your Selection ID\\n1.Add Element\\n2.Delete Element\\n3.Delete all\\n4.exit\\n\")\n",
    "    if selection == \"1\" :\n",
    "        add = input(\"Enter the data\\n\")\n",
    "        toDoList.append(add)\n",
    "    elif selection == \"2\" :\n",
    "        del_element()\n",
    "    elif selection == \"3\" :\n",
    "        Clear()\n",
    "    elif selection == \"4\" :\n",
    "        break\n",
    "    else :\n",
    "        print(\"Enter correct ID\")\n",
    "    print(toDoList)\n",
    "    print(\"\\t\\t\\tXXXXXXXXXXXXXXXXXXXXXXXXXXXXXXXXXXXXXXXXXXXXXX\\t\\t\\t\")"
   ]
  },
  {
   "cell_type": "code",
   "execution_count": null,
   "metadata": {},
   "outputs": [],
   "source": []
  }
 ],
 "metadata": {
  "kernelspec": {
   "display_name": "Python 3",
   "language": "python",
   "name": "python3"
  },
  "language_info": {
   "codemirror_mode": {
    "name": "ipython",
    "version": 3
   },
   "file_extension": ".py",
   "mimetype": "text/x-python",
   "name": "python",
   "nbconvert_exporter": "python",
   "pygments_lexer": "ipython3",
   "version": "3.7.4"
  }
 },
 "nbformat": 4,
 "nbformat_minor": 2
}
